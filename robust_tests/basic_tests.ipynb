{
 "cells": [
  {
   "cell_type": "code",
   "execution_count": 1,
   "metadata": {},
   "outputs": [],
   "source": [
    "import os\n",
    "import numpy as np\n",
    "import pandas as pd\n",
    "from pathlib import Path\n",
    "import scipy.stats as stats\n",
    "from matplotlib import pyplot as plt\n"
   ]
  },
  {
   "cell_type": "code",
   "execution_count": 2,
   "metadata": {},
   "outputs": [],
   "source": [
    "data_path = Path(os.getcwd()).resolve().parents[1] / \"p-value_metric_project\" / \"study_files\" / \"roi_data.csv\""
   ]
  },
  {
   "cell_type": "code",
   "execution_count": 3,
   "metadata": {},
   "outputs": [],
   "source": [
    "df = pd.read_csv(data_path)"
   ]
  },
  {
   "cell_type": "code",
   "execution_count": 4,
   "metadata": {},
   "outputs": [],
   "source": [
    "HEALTHY = \"HC\"\n",
    "NON_MCI = \"PD-non-MCI\"\n",
    "MCI = \"PD-MCI\"\n",
    "Group = \"dx_group\"\n",
    "ROI = \"Thalamus\""
   ]
  },
  {
   "cell_type": "code",
   "execution_count": 64,
   "metadata": {},
   "outputs": [],
   "source": [
    "g1 = df[(df[Group] == NON_MCI)][ROI+\"_change_pred\"]\n",
    "g2 = df[(df[Group] == MCI)][ROI+\"_change_pred\"]"
   ]
  },
  {
   "cell_type": "code",
   "execution_count": 21,
   "metadata": {},
   "outputs": [
    {
     "data": {
      "text/plain": [
       "(15, 10)"
      ]
     },
     "execution_count": 21,
     "metadata": {},
     "output_type": "execute_result"
    }
   ],
   "source": [
    "len(g1), len(g2)"
   ]
  },
  {
   "cell_type": "code",
   "execution_count": 9,
   "metadata": {},
   "outputs": [
    {
     "data": {
      "text/plain": [
       "(2.8342645946523417, 0.009584702773021278)"
      ]
     },
     "execution_count": 9,
     "metadata": {},
     "output_type": "execute_result"
    }
   ],
   "source": [
    "t,p = stats.ttest_ind(g1, g2, equal_var=False)\n",
    "t,p"
   ]
  },
  {
   "cell_type": "code",
   "execution_count": 10,
   "metadata": {},
   "outputs": [],
   "source": [
    "def median_derived_stat(g1, g2):\n",
    "    stat = (np.median(g1) - np.median(g2)) / np.sqrt(np.var(g1,ddof=1)/len(g1) + np.var(g2,ddof=1)/len(g2))\n",
    "    return stat"
   ]
  },
  {
   "cell_type": "code",
   "execution_count": 12,
   "metadata": {},
   "outputs": [],
   "source": [
    "def permutation_median_test(g1, g2, n_perm=5000):\n",
    "    \n",
    "    n1 = len(g1)\n",
    "    g = np.concatenate([g1, g2])\n",
    "    s_obs = median_derived_stat(g1, g2)\n",
    "    s_perm = np.zeros(n_perm)\n",
    "    for i in range(n_perm):\n",
    "        np.random.shuffle(g)\n",
    "        s_perm[i] = median_derived_stat(g[:n1], g[n1:])\n",
    "    \n",
    "    p_perm = np.sum(s_perm > s_obs) / n_perm \n",
    "    return s_obs, p_perm"
   ]
  },
  {
   "cell_type": "code",
   "execution_count": null,
   "metadata": {},
   "outputs": [],
   "source": [
    "stat = []\n",
    "for i in range(200):\n",
    "    stat.append(permutation_median_test(g1, g2, n_perm=1000)[1])"
   ]
  },
  {
   "cell_type": "code",
   "execution_count": 26,
   "metadata": {},
   "outputs": [
    {
     "data": {
      "text/plain": [
       "<matplotlib.lines.Line2D at 0x7f2d9ab1f2d0>"
      ]
     },
     "execution_count": 26,
     "metadata": {},
     "output_type": "execute_result"
    },
    {
     "data": {
      "image/png": "[encoded data removed]",
      "text/plain": [
       "<Figure size 640x480 with 1 Axes>"
      ]
     },
     "metadata": {},
     "output_type": "display_data"
    }
   ],
   "source": [
    "_ = plt.hist(stat, bins=20)\n",
    "plt.axvline(p, color=\"red\")\n",
    "plt.axvline(np.mean(stat), color=\"black\")"
   ]
  },
  {
   "cell_type": "code",
   "execution_count": null,
   "metadata": {},
   "outputs": [],
   "source": [
    "m_perm, p_perm = permutation_median_test(g1, g2, n_perm=50000)\n",
    "p_perm"
   ]
  },
  {
   "cell_type": "code",
   "execution_count": 27,
   "metadata": {},
   "outputs": [
    {
     "data": {
      "text/plain": [
       "(210.3409457525685, -223.23946491086411)"
      ]
     },
     "execution_count": 27,
     "metadata": {},
     "output_type": "execute_result"
    }
   ],
   "source": [
    "np.mean(g1), np.mean(g2)"
   ]
  },
  {
   "cell_type": "code",
   "execution_count": 28,
   "metadata": {},
   "outputs": [],
   "source": [
    "stat, p_perm = permutation_median_test(g1, g2, n_perm=1000)"
   ]
  },
  {
   "cell_type": "code",
   "execution_count": 29,
   "metadata": {},
   "outputs": [],
   "source": [
    "n1, n2 = len(g1), len(g2)"
   ]
  },
  {
   "cell_type": "code",
   "execution_count": 47,
   "metadata": {},
   "outputs": [],
   "source": [
    "from pvalue_metric import metric\n",
    "p_metric_neq = metric.pvalue_test([g1, g2], stats.ttest_ind, 200, 1000, **{\"equal_var\":False})[0][0]\n",
    "p_metric_eq = metric.pvalue_test([g1, g2], stats.ttest_ind, 200, 1000, **{\"equal_var\":True})[0][0]"
   ]
  },
  {
   "cell_type": "code",
   "execution_count": 54,
   "metadata": {},
   "outputs": [],
   "source": [
    "def pvalue_for_selected_test(g1, g2, n_boot=200, n_perm=10000, test=stats.ttest_ind, **kwargs):\n",
    "\n",
    "    _, p = test(g1, g2, **kwargs)\n",
    "\n",
    "    \n",
    "    p_median = permutation_median_test(g1, g2, 5000)[1]\n",
    "    \n",
    "\n",
    "    p_metric_neq = metric.pvalue_test([g1, g2], test, n_boot, n_perm, **kwargs)[0][0]\n",
    "    \n",
    "    return [p, p_median, p_metric_neq]\n"
   ]
  },
  {
   "cell_type": "code",
   "execution_count": 67,
   "metadata": {},
   "outputs": [
    {
     "name": "stderr",
     "output_type": "stream",
     "text": [
      "/home/niusha/anaconda3/envs/py11/lib/python3.11/site-packages/pvalue_metric/metric.py:45: RuntimeWarning: Precision loss occurred in moment calculation due to catastrophic cancellation. This occurs when the data are nearly identical. Results may be unreliable.\n",
      "  p_values[bootstrap_itr] = Hypothesis_testing_func(G1_bootstraps[bootstrap_itr],\\\n"
     ]
    }
   ],
   "source": [
    "pvalues = [pvalue_for_selected_test(g1, g2, n_boot=200, n_perm=10000, test=stats.ttest_ind, equal_var=False)]\n",
    "g1_without_max, g2_witout_min = g1, g2\n",
    "\n",
    "while any(cell < 0.05 for cell in pvalues[-1]):\n",
    "\n",
    "    g1_without_max, g2_witout_min = g1.drop(g1_without_max.idxmax()), g2_witout_min.drop(g2_witout_min.idxmin())\n",
    "\n",
    "    pvalues.append(pvalue_for_selected_test(g1_without_max, g2_witout_min, n_boot=200, n_perm=10000, test=stats.ttest_ind, equal_var=False))"
   ]
  },
  {
   "cell_type": "code",
   "execution_count": 61,
   "metadata": {},
   "outputs": [],
   "source": [
    "# p = pvalues"
   ]
  },
  {
   "cell_type": "code",
   "execution_count": 68,
   "metadata": {},
   "outputs": [
    {
     "data": {
      "text/plain": [
       "[[0.009584702773021278, 0.0098, 0.007099999999999995],\n",
       " [0.030605403862831917, 0.0194, 0.03469999999999995],\n",
       " [0.06203088332415935, 0.0282, 0.04490000000000005],\n",
       " [0.14304435223612047, 0.0636, 0.17500000000000004]]"
      ]
     },
     "execution_count": 68,
     "metadata": {},
     "output_type": "execute_result"
    }
   ],
   "source": [
    "pvalues"
   ]
  },
  {
   "cell_type": "code",
   "execution_count": 69,
   "metadata": {},
   "outputs": [],
   "source": [
    "n_bootstap = 200\n",
    "n_permutation =5000\n",
    "g1_bootstarpes = [np.random.choice(g1, len(g1)) for _ in range(n_bootstap)]\n",
    "g2_bootstarpes = [np.random.choice(g2, len(g2)) for _ in range(n_bootstap)]\n",
    "\n",
    "p_boot = [stats.ttest_ind(g1_bootstarpes[i], g2_bootstarpes[i], equal_var=False)[1] for i in range(n_bootstap)]\n",
    "p_median_boot = [permutation_median_test(g1_bootstarpes[i], g2_bootstarpes[i], n_permutation)[1] for i in range(n_bootstap)]"
   ]
  },
  {
   "cell_type": "code",
   "execution_count": null,
   "metadata": {},
   "outputs": [
    {
     "data": {
      "image/png": "[encoded data removed]",
      "text/plain": [
       "<Figure size 640x480 with 1 Axes>"
      ]
     },
     "metadata": {},
     "output_type": "display_data"
    }
   ],
   "source": [
    "plt.hist(p_boot, bins=20, alpha=0.5)\n",
    "plt.hist(p_median_boot, bins=20, alpha=0.5)\n",
    "plt.show()"
   ]
  },
  {
   "cell_type": "code",
   "execution_count": 70,
   "metadata": {},
   "outputs": [
    {
     "data": {
      "text/plain": [
       "(170, 179)"
      ]
     },
     "execution_count": 70,
     "metadata": {},
     "output_type": "execute_result"
    }
   ],
   "source": [
    "np.sum(np.array(p_boot) < 0.05), np.sum(np.array(p_median_boot) < 0.05)"
   ]
  },
  {
   "cell_type": "code",
   "execution_count": 71,
   "metadata": {},
   "outputs": [
    {
     "data": {
      "text/plain": [
       "[0.014448690168784674, 0.0076, 0.013399999999999967]"
      ]
     },
     "execution_count": 71,
     "metadata": {},
     "output_type": "execute_result"
    }
   ],
   "source": [
    "g1_clipped = stats.sigmaclip(g1, low=3, high=3)[0]\n",
    "g2_clipped = stats.sigmaclip(g2, low=3, high=3)[0]\n",
    "\n",
    "pvalues_clipped = pvalue_for_selected_test(g1_clipped, g2_clipped, n_boot=200, n_perm=5000, test=stats.ttest_ind, equal_var=False)\n",
    "pvalues_clipped"
   ]
  },
  {
   "cell_type": "code",
   "execution_count": 72,
   "metadata": {},
   "outputs": [],
   "source": [
    "g1_bootstarpes_clipped = [np.random.choice(g1_clipped, len(g1_clipped)) for _ in range(n_bootstap)]\n",
    "g2_bootstarpes_clipped = [np.random.choice(g2_clipped, len(g2_clipped)) for _ in range(n_bootstap)]\n",
    "\n",
    "p_boot_clipped = [stats.ttest_ind(g1_bootstarpes_clipped[i], g2_bootstarpes_clipped[i], equal_var=False)[1] for i in range(n_bootstap)]\n",
    "p_median_boot_clipped = [permutation_median_test(g1_bootstarpes_clipped[i], g2_bootstarpes_clipped[i], n_permutation)[1] for i in range(n_bootstap)]"
   ]
  },
  {
   "cell_type": "code",
   "execution_count": 74,
   "metadata": {},
   "outputs": [
    {
     "data": {
      "image/png": "[encoded data removed]",
      "text/plain": [
       "<Figure size 640x480 with 1 Axes>"
      ]
     },
     "metadata": {},
     "output_type": "display_data"
    }
   ],
   "source": [
    "plt.hist(p_boot_clipped, bins=20, alpha=0.5)\n",
    "plt.hist(p_median_boot_clipped, bins=20, alpha=0.5)\n",
    "plt.show()"
   ]
  },
  {
   "cell_type": "code",
   "execution_count": null,
   "metadata": {},
   "outputs": [],
   "source": [
    "np.sum(np.array(p_boot_clipped) < 0.05), np.sum(np.array(p_median_boot) < 0.05)"
   ]
  },
  {
   "cell_type": "code",
   "execution_count": null,
   "metadata": {},
   "outputs": [],
   "source": [
    "stats_boot = [stats.ttest_ind(g1_bootstarpes[i], g2_bootstarpes[i], equal_var=False) for i in range(n_bootstap)]"
   ]
  },
  {
   "cell_type": "code",
   "execution_count": null,
   "metadata": {},
   "outputs": [],
   "source": [
    "t_boot = [stat[0] for stat in stats_boot]\n",
    "p_boot = [stat[1] for stat in stats_boot]"
   ]
  },
  {
   "cell_type": "code",
   "execution_count": null,
   "metadata": {},
   "outputs": [
    {
     "data": {
      "image/png": "[encoded data removed]",
      "text/plain": [
       "<Figure size 640x480 with 1 Axes>"
      ]
     },
     "metadata": {},
     "output_type": "display_data"
    }
   ],
   "source": [
    "_ = plt.hist(t_boot, bins=20, alpha=0.5)"
   ]
  },
  {
   "cell_type": "code",
   "execution_count": null,
   "metadata": {},
   "outputs": [
    {
     "data": {
      "text/plain": [
       "22.258674563270528"
      ]
     },
     "execution_count": 9,
     "metadata": {},
     "output_type": "execute_result"
    }
   ],
   "source": [
    "# all_ = stats.ttest_ind(g1, g2, equal_var=False)\n",
    "# all_.df"
   ]
  },
  {
   "cell_type": "code",
   "execution_count": null,
   "metadata": {},
   "outputs": [],
   "source": [
    "from scipy.stats import t as t_\n",
    "prcs = np.percentile(t_boot, [2.5, 97.5]) \n",
    "p_value_up = 2 * (1 - t_.cdf(prcs[0], df=all_.df))\n",
    "p_value_down = 2 * (1 - t_.cdf(prcs[1], df=all_.df))"
   ]
  },
  {
   "cell_type": "code",
   "execution_count": null,
   "metadata": {},
   "outputs": [
    {
     "data": {
      "text/plain": [
       "(1.6090637511956274e-05, 0.21909386518611096)"
      ]
     },
     "execution_count": 30,
     "metadata": {},
     "output_type": "execute_result"
    }
   ],
   "source": [
    "p_value_down, p_value_up"
   ]
  },
  {
   "cell_type": "code",
   "execution_count": null,
   "metadata": {},
   "outputs": [
    {
     "data": {
      "text/plain": [
       "array([3.02639874e-05, 2.23042058e-01])"
      ]
     },
     "execution_count": 34,
     "metadata": {},
     "output_type": "execute_result"
    }
   ],
   "source": [
    "prcs_p = np.percentile(p_boot, [2.5, 97.5])\n",
    "prcs_p"
   ]
  },
  {
   "cell_type": "code",
   "execution_count": null,
   "metadata": {},
   "outputs": [
    {
     "data": {
      "text/plain": [
       "array([0.      , 0.344125])"
      ]
     },
     "execution_count": 41,
     "metadata": {},
     "output_type": "execute_result"
    }
   ],
   "source": [
    "prcs_p_median = np.percentile(p_median_boot, [2.5, 97.5])\n",
    "prcs_p_median"
   ]
  },
  {
   "cell_type": "code",
   "execution_count": null,
   "metadata": {},
   "outputs": [
    {
     "data": {
      "text/plain": [
       "0.6007457979684057"
      ]
     },
     "execution_count": 49,
     "metadata": {},
     "output_type": "execute_result"
    }
   ],
   "source": [
    "d = all_.statistic / np.sqrt(all_.df)\n",
    "d"
   ]
  },
  {
   "cell_type": "code",
   "execution_count": null,
   "metadata": {},
   "outputs": [],
   "source": []
  }
 ],
 "metadata": {
  "kernelspec": {
   "display_name": "mri",
   "language": "python",
   "name": "python3"
  },
  "language_info": {
   "codemirror_mode": {
    "name": "ipython",
    "version": 3
   },
   "file_extension": ".py",
   "mimetype": "text/x-python",
   "name": "python",
   "nbconvert_exporter": "python",
   "pygments_lexer": "ipython3",
   "version": "3.11.4"
  },
  "orig_nbformat": 4
 },
 "nbformat": 4,
 "nbformat_minor": 2
}
