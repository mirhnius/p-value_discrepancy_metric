{
 "cells": [
  {
   "cell_type": "code",
   "execution_count": 2,
   "metadata": {},
   "outputs": [],
   "source": [
    "import numpy as np\n",
    "from statsmodels.stats import weightstats as stests"
   ]
  },
  {
   "cell_type": "code",
   "execution_count": 29,
   "metadata": {},
   "outputs": [],
   "source": [
    "n_bootstrap = 200\n",
    "itr = 100\n",
    "bootstrap_zvalues = np.zeros((itr,n_bootstrap))\n",
    "\n",
    "for i in range(itr):\n",
    "    g1_samples = np.random.normal(0, 1, 100)\n",
    "    g2_samples = np.random.normal(0, 1, 100)\n",
    "\n",
    "    g1_bootstraps = [np.random.choice(g1_samples,len(g1_samples), replace=True) for j in range(n_bootstrap)]\n",
    "    g2_bootstraps = [np.random.choice(g2_samples, len(g2_samples), replace=True) for j in range(n_bootstrap)]\n",
    "    bootstrap_zvalues[i,:] = [stests.ztest(g1_bootstraps[j], g2_bootstraps[j])[0] for j in range(n_bootstrap)]"
   ]
  },
  {
   "cell_type": "code",
   "execution_count": 30,
   "metadata": {},
   "outputs": [
    {
     "data": {
      "text/plain": [
       "array([0.94888362, 1.1492956 , 0.87381824, 0.91978882, 0.79726152,\n",
       "       0.8908656 , 0.9674911 , 1.1264123 , 0.88629154, 1.14468175,\n",
       "       0.98586635, 1.17252815, 1.08277657, 0.82069994, 0.89714268,\n",
       "       1.16122392, 0.98826106, 0.92043733, 1.07595193, 1.00629843,\n",
       "       1.04749336, 1.01572967, 0.93103035, 1.09147274, 0.98236642,\n",
       "       0.89608843, 0.9478146 , 1.19928123, 0.89743549, 0.94234691,\n",
       "       1.1441505 , 0.98883065, 0.96889849, 0.99920857, 0.93568055,\n",
       "       0.91011485, 1.06426852, 1.14888589, 1.13158999, 1.1774598 ,\n",
       "       1.10268222, 0.85391354, 1.03182803, 0.85805332, 0.9740157 ,\n",
       "       1.18360595, 1.05545713, 0.88668891, 0.81064492, 1.02139393,\n",
       "       1.10743886, 1.07072699, 1.0539017 , 1.03641988, 0.94341852,\n",
       "       1.01883242, 0.83719596, 1.06674212, 1.23288428, 0.87032699,\n",
       "       0.92957681, 1.06142475, 1.0283053 , 1.02501019, 1.00948147,\n",
       "       1.10400827, 0.96471325, 0.97595651, 1.00052135, 0.98368905,\n",
       "       1.06832625, 1.03141996, 1.04231314, 0.99779079, 0.85618517,\n",
       "       1.10481076, 1.05029609, 1.0754306 , 1.03389664, 1.03914993,\n",
       "       1.09566095, 1.00086988, 0.97226074, 1.0735823 , 0.99043663,\n",
       "       1.19503445, 1.08208036, 1.06902765, 1.020205  , 1.03951379,\n",
       "       1.19162971, 0.87191709, 1.19485267, 1.02313689, 0.94368164,\n",
       "       1.04198773, 0.90768079, 1.01473214, 0.96208906, 1.04056004])"
      ]
     },
     "execution_count": 30,
     "metadata": {},
     "output_type": "execute_result"
    }
   ],
   "source": [
    "np.var(bootstrap_zvalues, axis=1)"
   ]
  },
  {
   "cell_type": "code",
   "execution_count": 28,
   "metadata": {},
   "outputs": [
    {
     "data": {
      "text/plain": [
       "1.9991483859891679"
      ]
     },
     "execution_count": 28,
     "metadata": {},
     "output_type": "execute_result"
    }
   ],
   "source": [
    "np.ravel(bootstrap_zvalues).var()"
   ]
  },
  {
   "cell_type": "code",
   "execution_count": null,
   "metadata": {},
   "outputs": [],
   "source": []
  }
 ],
 "metadata": {
  "kernelspec": {
   "display_name": "py11",
   "language": "python",
   "name": "python3"
  },
  "language_info": {
   "codemirror_mode": {
    "name": "ipython",
    "version": 3
   },
   "file_extension": ".py",
   "mimetype": "text/x-python",
   "name": "python",
   "nbconvert_exporter": "python",
   "pygments_lexer": "ipython3",
   "version": "3.10.13"
  },
  "orig_nbformat": 4
 },
 "nbformat": 4,
 "nbformat_minor": 2
}
