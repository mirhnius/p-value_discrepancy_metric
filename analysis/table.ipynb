{
 "cells": [
  {
   "cell_type": "code",
   "execution_count": null,
   "metadata": {},
   "outputs": [],
   "source": [
    "import pandas as pd\n",
    "from itertools import combinations"
   ]
  },
  {
   "cell_type": "code",
   "execution_count": 3,
   "metadata": {},
   "outputs": [],
   "source": [
    "def generate_pairs_indices(data):\n",
    "\n",
    "    pairs_elements = []\n",
    "    for i, j in combinations(data, 2):\n",
    "        pairs_elements.append((i, j))\n"
   ]
  },
  {
   "cell_type": "code",
   "execution_count": 21,
   "metadata": {},
   "outputs": [],
   "source": [
    "original_pvalues = pd.read_csv(\"../study_files/volumetric_changes_pvalues.csv\", index_col=0)\n",
    "pmetric = pd.read_csv(\"../pvalue_metric_1000bootstrap_1000permutation.csv\", index_col=0)"
   ]
  },
  {
   "cell_type": "code",
   "execution_count": 76,
   "metadata": {},
   "outputs": [],
   "source": [
    "percentage_df = pmetric.sub(original_pvalues, axis=0).divide(original_pvalues, axis=0)\n",
    "concat_df = pd.concat([original_pvalues, pmetric, percentage_df], axis=1)[list(original_pvalues.columns)]"
   ]
  },
  {
   "cell_type": "code",
   "execution_count": 77,
   "metadata": {},
   "outputs": [
    {
     "data": {
      "text/plain": [
       "(8, 9)"
      ]
     },
     "execution_count": 77,
     "metadata": {},
     "output_type": "execute_result"
    }
   ],
   "source": [
    "concat_df.shape"
   ]
  },
  {
   "cell_type": "code",
   "execution_count": 78,
   "metadata": {},
   "outputs": [
    {
     "data": {
      "text/html": [
       "<pre style=\"white-space:pre;overflow-x:auto;line-height:normal;font-family:Menlo,'DejaVu Sans Mono',consolas,'Courier New',monospace\">┏━━━━━━━━━━━━━┳━━━━━━━━━┳━━━━━━━━━━━━┳━━━━━━━━━┳━━━━━━━━━━┳━━━━━━━━━━━┳━━━━━━━━━━┳━━━━━━━━━┳━━━━━━━━━━━━┳━━━━━━━━━┓\n",
       "┃<span style=\"color: #800080; text-decoration-color: #800080; font-weight: bold\">             </span>┃<span style=\"color: #800080; text-decoration-color: #800080; font-weight: bold\">         </span>┃<span style=\"color: #800080; text-decoration-color: #800080; font-weight: bold\"> PD-MCI vs  </span>┃<span style=\"color: #800080; text-decoration-color: #800080; font-weight: bold\">         </span>┃<span style=\"color: #800080; text-decoration-color: #800080; font-weight: bold\">          </span>┃<span style=\"color: #800080; text-decoration-color: #800080; font-weight: bold\"> PD-MCI vs </span>┃<span style=\"color: #800080; text-decoration-color: #800080; font-weight: bold\">          </span>┃<span style=\"color: #800080; text-decoration-color: #800080; font-weight: bold\">         </span>┃<span style=\"color: #800080; text-decoration-color: #800080; font-weight: bold\"> PD-non-MCI </span>┃<span style=\"color: #800080; text-decoration-color: #800080; font-weight: bold\">         </span>┃\n",
       "┃<span style=\"color: #800080; text-decoration-color: #800080; font-weight: bold\">    Areas    </span>┃<span style=\"color: #800080; text-decoration-color: #800080; font-weight: bold\">         </span>┃<span style=\"color: #800080; text-decoration-color: #800080; font-weight: bold\"> PD-non-MCI </span>┃<span style=\"color: #800080; text-decoration-color: #800080; font-weight: bold\">         </span>┃<span style=\"color: #800080; text-decoration-color: #800080; font-weight: bold\">          </span>┃<span style=\"color: #800080; text-decoration-color: #800080; font-weight: bold\">    HC     </span>┃<span style=\"color: #800080; text-decoration-color: #800080; font-weight: bold\">          </span>┃<span style=\"color: #800080; text-decoration-color: #800080; font-weight: bold\">         </span>┃<span style=\"color: #800080; text-decoration-color: #800080; font-weight: bold\">   vs HC    </span>┃<span style=\"color: #800080; text-decoration-color: #800080; font-weight: bold\">         </span>┃\n",
       "┡━━━━━━━━━━━━━╇━━━━━━━━━╇━━━━━━━━━━━━╇━━━━━━━━━╇━━━━━━━━━━╇━━━━━━━━━━━╇━━━━━━━━━━╇━━━━━━━━━╇━━━━━━━━━━━━╇━━━━━━━━━┩\n",
       "│<span style=\"color: #7f7f7f; text-decoration-color: #7f7f7f\">             </span>│<span style=\"color: #7f7f7f; text-decoration-color: #7f7f7f\"> p-value </span>│<span style=\"color: #7f7f7f; text-decoration-color: #7f7f7f\">  p_metric  </span>│<span style=\"color: #7f7f7f; text-decoration-color: #7f7f7f\"> change  </span>│<span style=\"color: #7f7f7f; text-decoration-color: #7f7f7f\"> p-value  </span>│<span style=\"color: #7f7f7f; text-decoration-color: #7f7f7f\"> p_metric  </span>│<span style=\"color: #7f7f7f; text-decoration-color: #7f7f7f\">  change  </span>│<span style=\"color: #7f7f7f; text-decoration-color: #7f7f7f\"> p-value </span>│<span style=\"color: #7f7f7f; text-decoration-color: #7f7f7f\">  p_metric  </span>│<span style=\"color: #7f7f7f; text-decoration-color: #7f7f7f\"> change  </span>│\n",
       "│<span style=\"color: #7f7f7f; text-decoration-color: #7f7f7f\">             </span>│<span style=\"color: #7f7f7f; text-decoration-color: #7f7f7f\">         </span>│<span style=\"color: #7f7f7f; text-decoration-color: #7f7f7f\">            </span>│<span style=\"color: #7f7f7f; text-decoration-color: #7f7f7f\"> percent </span>│<span style=\"color: #7f7f7f; text-decoration-color: #7f7f7f\">          </span>│<span style=\"color: #7f7f7f; text-decoration-color: #7f7f7f\">           </span>│<span style=\"color: #7f7f7f; text-decoration-color: #7f7f7f\"> percent  </span>│<span style=\"color: #7f7f7f; text-decoration-color: #7f7f7f\">         </span>│<span style=\"color: #7f7f7f; text-decoration-color: #7f7f7f\">            </span>│<span style=\"color: #7f7f7f; text-decoration-color: #7f7f7f\"> percent </span>│\n",
       "├─────────────┼─────────┼────────────┼─────────┼──────────┼───────────┼──────────┼─────────┼────────────┼─────────┤\n",
       "│<span style=\"color: #7f7f7f; text-decoration-color: #7f7f7f\"> thickness_… </span>│<span style=\"color: #7f7f7f; text-decoration-color: #7f7f7f\"> 0.4431… </span>│<span style=\"color: #7f7f7f; text-decoration-color: #7f7f7f\">   0.522    </span>│<span style=\"color: #7f7f7f; text-decoration-color: #7f7f7f\"> 0.1778… </span>│<span style=\"color: #7f7f7f; text-decoration-color: #7f7f7f\"> 0.99797… </span>│<span style=\"color: #7f7f7f; text-decoration-color: #7f7f7f\">   0.988   </span>│<span style=\"color: #7f7f7f; text-decoration-color: #7f7f7f\"> -0.0099… </span>│<span style=\"color: #7f7f7f; text-decoration-color: #7f7f7f\"> 0.5037… </span>│<span style=\"color: #7f7f7f; text-decoration-color: #7f7f7f\">    0.55    </span>│<span style=\"color: #7f7f7f; text-decoration-color: #7f7f7f\"> 0.0917… </span>│\n",
       "│<span style=\"color: #7f7f7f; text-decoration-color: #7f7f7f\"> Thalamus_c… </span>│<span style=\"color: #7f7f7f; text-decoration-color: #7f7f7f\"> 0.0128… </span>│<span style=\"color: #7f7f7f; text-decoration-color: #7f7f7f\">    0.0     </span>│<span style=\"color: #7f7f7f; text-decoration-color: #7f7f7f\">  -1.0   </span>│<span style=\"color: #7f7f7f; text-decoration-color: #7f7f7f\"> 0.28036… </span>│<span style=\"color: #7f7f7f; text-decoration-color: #7f7f7f\">   0.282   </span>│<span style=\"color: #7f7f7f; text-decoration-color: #7f7f7f\"> 0.00582… </span>│<span style=\"color: #7f7f7f; text-decoration-color: #7f7f7f\"> 0.0884… </span>│<span style=\"color: #7f7f7f; text-decoration-color: #7f7f7f\"> 0.1019999… </span>│<span style=\"color: #7f7f7f; text-decoration-color: #7f7f7f\"> 0.1535… </span>│\n",
       "│<span style=\"color: #7f7f7f; text-decoration-color: #7f7f7f\"> Caudate_ch… </span>│<span style=\"color: #7f7f7f; text-decoration-color: #7f7f7f\"> 0.6324… </span>│<span style=\"color: #7f7f7f; text-decoration-color: #7f7f7f\">   0.536    </span>│<span style=\"color: #7f7f7f; text-decoration-color: #7f7f7f\"> -0.152… </span>│<span style=\"color: #7f7f7f; text-decoration-color: #7f7f7f\"> 0.56130… </span>│<span style=\"color: #7f7f7f; text-decoration-color: #7f7f7f\">   0.43    </span>│<span style=\"color: #7f7f7f; text-decoration-color: #7f7f7f\"> -0.2339… </span>│<span style=\"color: #7f7f7f; text-decoration-color: #7f7f7f\"> 0.9527… </span>│<span style=\"color: #7f7f7f; text-decoration-color: #7f7f7f\">   0.844    </span>│<span style=\"color: #7f7f7f; text-decoration-color: #7f7f7f\"> -0.114… </span>│\n",
       "│<span style=\"color: #7f7f7f; text-decoration-color: #7f7f7f\"> Putamen_ch… </span>│<span style=\"color: #7f7f7f; text-decoration-color: #7f7f7f\"> 0.2096… </span>│<span style=\"color: #7f7f7f; text-decoration-color: #7f7f7f\"> 0.1939999… </span>│<span style=\"color: #7f7f7f; text-decoration-color: #7f7f7f\"> -0.074… </span>│<span style=\"color: #7f7f7f; text-decoration-color: #7f7f7f\"> 0.25790… </span>│<span style=\"color: #7f7f7f; text-decoration-color: #7f7f7f\">   0.284   </span>│<span style=\"color: #7f7f7f; text-decoration-color: #7f7f7f\"> 0.10118… </span>│<span style=\"color: #7f7f7f; text-decoration-color: #7f7f7f\"> 0.0150… </span>│<span style=\"color: #7f7f7f; text-decoration-color: #7f7f7f\">    0.01    </span>│<span style=\"color: #7f7f7f; text-decoration-color: #7f7f7f\"> -0.334… </span>│\n",
       "│<span style=\"color: #7f7f7f; text-decoration-color: #7f7f7f\"> Pallidum_c… </span>│<span style=\"color: #7f7f7f; text-decoration-color: #7f7f7f\"> 0.5467… </span>│<span style=\"color: #7f7f7f; text-decoration-color: #7f7f7f\"> 0.4519999… </span>│<span style=\"color: #7f7f7f; text-decoration-color: #7f7f7f\"> -0.173… </span>│<span style=\"color: #7f7f7f; text-decoration-color: #7f7f7f\"> 0.82529… </span>│<span style=\"color: #7f7f7f; text-decoration-color: #7f7f7f\">   0.62    </span>│<span style=\"color: #7f7f7f; text-decoration-color: #7f7f7f\"> -0.2487… </span>│<span style=\"color: #7f7f7f; text-decoration-color: #7f7f7f\"> 0.1328… </span>│<span style=\"color: #7f7f7f; text-decoration-color: #7f7f7f\">   0.144    </span>│<span style=\"color: #7f7f7f; text-decoration-color: #7f7f7f\"> 0.0842… </span>│\n",
       "│<span style=\"color: #7f7f7f; text-decoration-color: #7f7f7f\"> Hippocampu… </span>│<span style=\"color: #7f7f7f; text-decoration-color: #7f7f7f\"> 0.4268… </span>│<span style=\"color: #7f7f7f; text-decoration-color: #7f7f7f\">    0.43    </span>│<span style=\"color: #7f7f7f; text-decoration-color: #7f7f7f\"> 0.0074… </span>│<span style=\"color: #7f7f7f; text-decoration-color: #7f7f7f\"> 0.22234… </span>│<span style=\"color: #7f7f7f; text-decoration-color: #7f7f7f\">   0.236   </span>│<span style=\"color: #7f7f7f; text-decoration-color: #7f7f7f\"> 0.06139… </span>│<span style=\"color: #7f7f7f; text-decoration-color: #7f7f7f\"> 0.7424… </span>│<span style=\"color: #7f7f7f; text-decoration-color: #7f7f7f\">   0.806    </span>│<span style=\"color: #7f7f7f; text-decoration-color: #7f7f7f\"> 0.0856… </span>│\n",
       "│<span style=\"color: #7f7f7f; text-decoration-color: #7f7f7f\"> Amygdala_c… </span>│<span style=\"color: #7f7f7f; text-decoration-color: #7f7f7f\"> 0.5742… </span>│<span style=\"color: #7f7f7f; text-decoration-color: #7f7f7f\"> 0.5840000… </span>│<span style=\"color: #7f7f7f; text-decoration-color: #7f7f7f\"> 0.0170… </span>│<span style=\"color: #7f7f7f; text-decoration-color: #7f7f7f\"> 0.20002… </span>│<span style=\"color: #7f7f7f; text-decoration-color: #7f7f7f\">   0.14    </span>│<span style=\"color: #7f7f7f; text-decoration-color: #7f7f7f\"> -0.3000… </span>│<span style=\"color: #7f7f7f; text-decoration-color: #7f7f7f\"> 0.5041… </span>│<span style=\"color: #7f7f7f; text-decoration-color: #7f7f7f\"> 0.5860000… </span>│<span style=\"color: #7f7f7f; text-decoration-color: #7f7f7f\"> 0.1623… </span>│\n",
       "│<span style=\"color: #7f7f7f; text-decoration-color: #7f7f7f\"> Accumbens-… </span>│<span style=\"color: #7f7f7f; text-decoration-color: #7f7f7f\"> 0.8091… </span>│<span style=\"color: #7f7f7f; text-decoration-color: #7f7f7f\">   0.742    </span>│<span style=\"color: #7f7f7f; text-decoration-color: #7f7f7f\"> -0.083… </span>│<span style=\"color: #7f7f7f; text-decoration-color: #7f7f7f\"> 0.52014… </span>│<span style=\"color: #7f7f7f; text-decoration-color: #7f7f7f\">   0.542   </span>│<span style=\"color: #7f7f7f; text-decoration-color: #7f7f7f\"> 0.04201… </span>│<span style=\"color: #7f7f7f; text-decoration-color: #7f7f7f\"> 0.5763… </span>│<span style=\"color: #7f7f7f; text-decoration-color: #7f7f7f\"> 0.4599999… </span>│<span style=\"color: #7f7f7f; text-decoration-color: #7f7f7f\"> -0.201… </span>│\n",
       "└─────────────┴─────────┴────────────┴─────────┴──────────┴───────────┴──────────┴─────────┴────────────┴─────────┘\n",
       "</pre>\n"
      ],
      "text/plain": [
       "┏━━━━━━━━━━━━━┳━━━━━━━━━┳━━━━━━━━━━━━┳━━━━━━━━━┳━━━━━━━━━━┳━━━━━━━━━━━┳━━━━━━━━━━┳━━━━━━━━━┳━━━━━━━━━━━━┳━━━━━━━━━┓\n",
       "┃\u001b[1;35m             \u001b[0m┃\u001b[1;35m         \u001b[0m┃\u001b[1;35m \u001b[0m\u001b[1;35mPD-MCI vs \u001b[0m\u001b[1;35m \u001b[0m┃\u001b[1;35m         \u001b[0m┃\u001b[1;35m          \u001b[0m┃\u001b[1;35m \u001b[0m\u001b[1;35mPD-MCI vs\u001b[0m\u001b[1;35m \u001b[0m┃\u001b[1;35m          \u001b[0m┃\u001b[1;35m         \u001b[0m┃\u001b[1;35m \u001b[0m\u001b[1;35mPD-non-MCI\u001b[0m\u001b[1;35m \u001b[0m┃\u001b[1;35m         \u001b[0m┃\n",
       "┃\u001b[1;35m \u001b[0m\u001b[1;35m   Areas   \u001b[0m\u001b[1;35m \u001b[0m┃\u001b[1;35m \u001b[0m\u001b[1;35m       \u001b[0m\u001b[1;35m \u001b[0m┃\u001b[1;35m \u001b[0m\u001b[1;35mPD-non-MCI\u001b[0m\u001b[1;35m \u001b[0m┃\u001b[1;35m \u001b[0m\u001b[1;35m       \u001b[0m\u001b[1;35m \u001b[0m┃\u001b[1;35m \u001b[0m\u001b[1;35m        \u001b[0m\u001b[1;35m \u001b[0m┃\u001b[1;35m \u001b[0m\u001b[1;35m   HC    \u001b[0m\u001b[1;35m \u001b[0m┃\u001b[1;35m \u001b[0m\u001b[1;35m        \u001b[0m\u001b[1;35m \u001b[0m┃\u001b[1;35m \u001b[0m\u001b[1;35m       \u001b[0m\u001b[1;35m \u001b[0m┃\u001b[1;35m \u001b[0m\u001b[1;35m  vs HC   \u001b[0m\u001b[1;35m \u001b[0m┃\u001b[1;35m \u001b[0m\u001b[1;35m       \u001b[0m\u001b[1;35m \u001b[0m┃\n",
       "┡━━━━━━━━━━━━━╇━━━━━━━━━╇━━━━━━━━━━━━╇━━━━━━━━━╇━━━━━━━━━━╇━━━━━━━━━━━╇━━━━━━━━━━╇━━━━━━━━━╇━━━━━━━━━━━━╇━━━━━━━━━┩\n",
       "│\u001b[2m \u001b[0m\u001b[2m           \u001b[0m\u001b[2m \u001b[0m│\u001b[2m \u001b[0m\u001b[2mp-value\u001b[0m\u001b[2m \u001b[0m│\u001b[2m \u001b[0m\u001b[2m p_metric \u001b[0m\u001b[2m \u001b[0m│\u001b[2m \u001b[0m\u001b[2mchange \u001b[0m\u001b[2m \u001b[0m│\u001b[2m \u001b[0m\u001b[2mp-value \u001b[0m\u001b[2m \u001b[0m│\u001b[2m \u001b[0m\u001b[2mp_metric \u001b[0m\u001b[2m \u001b[0m│\u001b[2m \u001b[0m\u001b[2m change \u001b[0m\u001b[2m \u001b[0m│\u001b[2m \u001b[0m\u001b[2mp-value\u001b[0m\u001b[2m \u001b[0m│\u001b[2m \u001b[0m\u001b[2m p_metric \u001b[0m\u001b[2m \u001b[0m│\u001b[2m \u001b[0m\u001b[2mchange \u001b[0m\u001b[2m \u001b[0m│\n",
       "│\u001b[2m             \u001b[0m│\u001b[2m         \u001b[0m│\u001b[2m            \u001b[0m│\u001b[2m \u001b[0m\u001b[2mpercent\u001b[0m\u001b[2m \u001b[0m│\u001b[2m          \u001b[0m│\u001b[2m           \u001b[0m│\u001b[2m \u001b[0m\u001b[2mpercent \u001b[0m\u001b[2m \u001b[0m│\u001b[2m         \u001b[0m│\u001b[2m            \u001b[0m│\u001b[2m \u001b[0m\u001b[2mpercent\u001b[0m\u001b[2m \u001b[0m│\n",
       "├─────────────┼─────────┼────────────┼─────────┼──────────┼───────────┼──────────┼─────────┼────────────┼─────────┤\n",
       "│\u001b[2m \u001b[0m\u001b[2mthickness_…\u001b[0m\u001b[2m \u001b[0m│\u001b[2m \u001b[0m\u001b[2m0.4431…\u001b[0m\u001b[2m \u001b[0m│\u001b[2m \u001b[0m\u001b[2m  0.522   \u001b[0m\u001b[2m \u001b[0m│\u001b[2m \u001b[0m\u001b[2m0.1778…\u001b[0m\u001b[2m \u001b[0m│\u001b[2m \u001b[0m\u001b[2m0.99797…\u001b[0m\u001b[2m \u001b[0m│\u001b[2m \u001b[0m\u001b[2m  0.988  \u001b[0m\u001b[2m \u001b[0m│\u001b[2m \u001b[0m\u001b[2m-0.0099…\u001b[0m\u001b[2m \u001b[0m│\u001b[2m \u001b[0m\u001b[2m0.5037…\u001b[0m\u001b[2m \u001b[0m│\u001b[2m \u001b[0m\u001b[2m   0.55   \u001b[0m\u001b[2m \u001b[0m│\u001b[2m \u001b[0m\u001b[2m0.0917…\u001b[0m\u001b[2m \u001b[0m│\n",
       "│\u001b[2m \u001b[0m\u001b[2mThalamus_c…\u001b[0m\u001b[2m \u001b[0m│\u001b[2m \u001b[0m\u001b[2m0.0128…\u001b[0m\u001b[2m \u001b[0m│\u001b[2m \u001b[0m\u001b[2m   0.0    \u001b[0m\u001b[2m \u001b[0m│\u001b[2m \u001b[0m\u001b[2m -1.0  \u001b[0m\u001b[2m \u001b[0m│\u001b[2m \u001b[0m\u001b[2m0.28036…\u001b[0m\u001b[2m \u001b[0m│\u001b[2m \u001b[0m\u001b[2m  0.282  \u001b[0m\u001b[2m \u001b[0m│\u001b[2m \u001b[0m\u001b[2m0.00582…\u001b[0m\u001b[2m \u001b[0m│\u001b[2m \u001b[0m\u001b[2m0.0884…\u001b[0m\u001b[2m \u001b[0m│\u001b[2m \u001b[0m\u001b[2m0.1019999…\u001b[0m\u001b[2m \u001b[0m│\u001b[2m \u001b[0m\u001b[2m0.1535…\u001b[0m\u001b[2m \u001b[0m│\n",
       "│\u001b[2m \u001b[0m\u001b[2mCaudate_ch…\u001b[0m\u001b[2m \u001b[0m│\u001b[2m \u001b[0m\u001b[2m0.6324…\u001b[0m\u001b[2m \u001b[0m│\u001b[2m \u001b[0m\u001b[2m  0.536   \u001b[0m\u001b[2m \u001b[0m│\u001b[2m \u001b[0m\u001b[2m-0.152…\u001b[0m\u001b[2m \u001b[0m│\u001b[2m \u001b[0m\u001b[2m0.56130…\u001b[0m\u001b[2m \u001b[0m│\u001b[2m \u001b[0m\u001b[2m  0.43   \u001b[0m\u001b[2m \u001b[0m│\u001b[2m \u001b[0m\u001b[2m-0.2339…\u001b[0m\u001b[2m \u001b[0m│\u001b[2m \u001b[0m\u001b[2m0.9527…\u001b[0m\u001b[2m \u001b[0m│\u001b[2m \u001b[0m\u001b[2m  0.844   \u001b[0m\u001b[2m \u001b[0m│\u001b[2m \u001b[0m\u001b[2m-0.114…\u001b[0m\u001b[2m \u001b[0m│\n",
       "│\u001b[2m \u001b[0m\u001b[2mPutamen_ch…\u001b[0m\u001b[2m \u001b[0m│\u001b[2m \u001b[0m\u001b[2m0.2096…\u001b[0m\u001b[2m \u001b[0m│\u001b[2m \u001b[0m\u001b[2m0.1939999…\u001b[0m\u001b[2m \u001b[0m│\u001b[2m \u001b[0m\u001b[2m-0.074…\u001b[0m\u001b[2m \u001b[0m│\u001b[2m \u001b[0m\u001b[2m0.25790…\u001b[0m\u001b[2m \u001b[0m│\u001b[2m \u001b[0m\u001b[2m  0.284  \u001b[0m\u001b[2m \u001b[0m│\u001b[2m \u001b[0m\u001b[2m0.10118…\u001b[0m\u001b[2m \u001b[0m│\u001b[2m \u001b[0m\u001b[2m0.0150…\u001b[0m\u001b[2m \u001b[0m│\u001b[2m \u001b[0m\u001b[2m   0.01   \u001b[0m\u001b[2m \u001b[0m│\u001b[2m \u001b[0m\u001b[2m-0.334…\u001b[0m\u001b[2m \u001b[0m│\n",
       "│\u001b[2m \u001b[0m\u001b[2mPallidum_c…\u001b[0m\u001b[2m \u001b[0m│\u001b[2m \u001b[0m\u001b[2m0.5467…\u001b[0m\u001b[2m \u001b[0m│\u001b[2m \u001b[0m\u001b[2m0.4519999…\u001b[0m\u001b[2m \u001b[0m│\u001b[2m \u001b[0m\u001b[2m-0.173…\u001b[0m\u001b[2m \u001b[0m│\u001b[2m \u001b[0m\u001b[2m0.82529…\u001b[0m\u001b[2m \u001b[0m│\u001b[2m \u001b[0m\u001b[2m  0.62   \u001b[0m\u001b[2m \u001b[0m│\u001b[2m \u001b[0m\u001b[2m-0.2487…\u001b[0m\u001b[2m \u001b[0m│\u001b[2m \u001b[0m\u001b[2m0.1328…\u001b[0m\u001b[2m \u001b[0m│\u001b[2m \u001b[0m\u001b[2m  0.144   \u001b[0m\u001b[2m \u001b[0m│\u001b[2m \u001b[0m\u001b[2m0.0842…\u001b[0m\u001b[2m \u001b[0m│\n",
       "│\u001b[2m \u001b[0m\u001b[2mHippocampu…\u001b[0m\u001b[2m \u001b[0m│\u001b[2m \u001b[0m\u001b[2m0.4268…\u001b[0m\u001b[2m \u001b[0m│\u001b[2m \u001b[0m\u001b[2m   0.43   \u001b[0m\u001b[2m \u001b[0m│\u001b[2m \u001b[0m\u001b[2m0.0074…\u001b[0m\u001b[2m \u001b[0m│\u001b[2m \u001b[0m\u001b[2m0.22234…\u001b[0m\u001b[2m \u001b[0m│\u001b[2m \u001b[0m\u001b[2m  0.236  \u001b[0m\u001b[2m \u001b[0m│\u001b[2m \u001b[0m\u001b[2m0.06139…\u001b[0m\u001b[2m \u001b[0m│\u001b[2m \u001b[0m\u001b[2m0.7424…\u001b[0m\u001b[2m \u001b[0m│\u001b[2m \u001b[0m\u001b[2m  0.806   \u001b[0m\u001b[2m \u001b[0m│\u001b[2m \u001b[0m\u001b[2m0.0856…\u001b[0m\u001b[2m \u001b[0m│\n",
       "│\u001b[2m \u001b[0m\u001b[2mAmygdala_c…\u001b[0m\u001b[2m \u001b[0m│\u001b[2m \u001b[0m\u001b[2m0.5742…\u001b[0m\u001b[2m \u001b[0m│\u001b[2m \u001b[0m\u001b[2m0.5840000…\u001b[0m\u001b[2m \u001b[0m│\u001b[2m \u001b[0m\u001b[2m0.0170…\u001b[0m\u001b[2m \u001b[0m│\u001b[2m \u001b[0m\u001b[2m0.20002…\u001b[0m\u001b[2m \u001b[0m│\u001b[2m \u001b[0m\u001b[2m  0.14   \u001b[0m\u001b[2m \u001b[0m│\u001b[2m \u001b[0m\u001b[2m-0.3000…\u001b[0m\u001b[2m \u001b[0m│\u001b[2m \u001b[0m\u001b[2m0.5041…\u001b[0m\u001b[2m \u001b[0m│\u001b[2m \u001b[0m\u001b[2m0.5860000…\u001b[0m\u001b[2m \u001b[0m│\u001b[2m \u001b[0m\u001b[2m0.1623…\u001b[0m\u001b[2m \u001b[0m│\n",
       "│\u001b[2m \u001b[0m\u001b[2mAccumbens-…\u001b[0m\u001b[2m \u001b[0m│\u001b[2m \u001b[0m\u001b[2m0.8091…\u001b[0m\u001b[2m \u001b[0m│\u001b[2m \u001b[0m\u001b[2m  0.742   \u001b[0m\u001b[2m \u001b[0m│\u001b[2m \u001b[0m\u001b[2m-0.083…\u001b[0m\u001b[2m \u001b[0m│\u001b[2m \u001b[0m\u001b[2m0.52014…\u001b[0m\u001b[2m \u001b[0m│\u001b[2m \u001b[0m\u001b[2m  0.542  \u001b[0m\u001b[2m \u001b[0m│\u001b[2m \u001b[0m\u001b[2m0.04201…\u001b[0m\u001b[2m \u001b[0m│\u001b[2m \u001b[0m\u001b[2m0.5763…\u001b[0m\u001b[2m \u001b[0m│\u001b[2m \u001b[0m\u001b[2m0.4599999…\u001b[0m\u001b[2m \u001b[0m│\u001b[2m \u001b[0m\u001b[2m-0.201…\u001b[0m\u001b[2m \u001b[0m│\n",
       "└─────────────┴─────────┴────────────┴─────────┴──────────┴───────────┴──────────┴─────────┴────────────┴─────────┘\n"
      ]
     },
     "metadata": {},
     "output_type": "display_data"
    }
   ],
   "source": [
    "from rich.console import Console\n",
    "from rich.table import Table\n",
    "\n",
    "# Create a Console object\n",
    "console = Console()\n",
    "\n",
    "# Create a Table instance\n",
    "columns = ['PD-MCI vs PD-non-MCI', 'PD-MCI vs HC', 'PD-non-MCI vs HC']\n",
    "table = Table(show_header=True, header_style=\"bold magenta\")\n",
    "table.add_column(\"Areas\", style=\"dim\", width=15, justify=\"center\")\n",
    "for col in columns:\n",
    "    table.add_column(\"\", style=\"dim\", width=12, justify=\"center\")\n",
    "    table.add_column(col, style=\"dim\", width=14, justify=\"center\")\n",
    "    table.add_column(\"\", style=\"dim\", width=12, justify=\"center\")\n",
    "\n",
    "titles = [\"\"] + [\"p-value\", \"p_metric\", \"change percent\"] *3 \n",
    "table.add_row(*titles, end_section=True)\n",
    "for idx in concat_df.index:\n",
    "    row = [idx] + [str(i) for i in concat_df.loc[idx].values]\n",
    "    table.add_row(*row)\n",
    "console.print(table)"
   ]
  },
  {
   "cell_type": "code",
   "execution_count": 66,
   "metadata": {},
   "outputs": [
    {
     "data": {
      "text/html": [
       "<div>\n",
       "<style scoped>\n",
       "    .dataframe tbody tr th:only-of-type {\n",
       "        vertical-align: middle;\n",
       "    }\n",
       "\n",
       "    .dataframe tbody tr th {\n",
       "        vertical-align: top;\n",
       "    }\n",
       "\n",
       "    .dataframe thead th {\n",
       "        text-align: right;\n",
       "    }\n",
       "</style>\n",
       "<table border=\"1\" class=\"dataframe\">\n",
       "  <thead>\n",
       "    <tr style=\"text-align: right;\">\n",
       "      <th></th>\n",
       "      <th>PD-MCI_vs_PD-non-MCI</th>\n",
       "      <th>PD-MCI_vs_HC</th>\n",
       "      <th>PD-non-MCI_vs_HC</th>\n",
       "    </tr>\n",
       "  </thead>\n",
       "  <tbody>\n",
       "    <tr>\n",
       "      <th>thickness_change</th>\n",
       "      <td>0.443169</td>\n",
       "      <td>0.997976</td>\n",
       "      <td>0.503756</td>\n",
       "    </tr>\n",
       "    <tr>\n",
       "      <th>Thalamus_change_pred</th>\n",
       "      <td>0.012854</td>\n",
       "      <td>0.280367</td>\n",
       "      <td>0.088426</td>\n",
       "    </tr>\n",
       "    <tr>\n",
       "      <th>Caudate_change_pred</th>\n",
       "      <td>0.632498</td>\n",
       "      <td>0.561301</td>\n",
       "      <td>0.952774</td>\n",
       "    </tr>\n",
       "    <tr>\n",
       "      <th>Putamen_change_pred</th>\n",
       "      <td>0.209674</td>\n",
       "      <td>0.257905</td>\n",
       "      <td>0.015019</td>\n",
       "    </tr>\n",
       "    <tr>\n",
       "      <th>Pallidum_change_pred</th>\n",
       "      <td>0.546732</td>\n",
       "      <td>0.825296</td>\n",
       "      <td>0.132805</td>\n",
       "    </tr>\n",
       "    <tr>\n",
       "      <th>Hippocampus_change_pred</th>\n",
       "      <td>0.426830</td>\n",
       "      <td>0.222348</td>\n",
       "      <td>0.742446</td>\n",
       "    </tr>\n",
       "    <tr>\n",
       "      <th>Amygdala_change_pred</th>\n",
       "      <td>0.574215</td>\n",
       "      <td>0.200023</td>\n",
       "      <td>0.504155</td>\n",
       "    </tr>\n",
       "    <tr>\n",
       "      <th>Accumbens-area_change_pred</th>\n",
       "      <td>0.809184</td>\n",
       "      <td>0.520146</td>\n",
       "      <td>0.576393</td>\n",
       "    </tr>\n",
       "  </tbody>\n",
       "</table>\n",
       "</div>"
      ],
      "text/plain": [
       "                            PD-MCI_vs_PD-non-MCI  PD-MCI_vs_HC  \\\n",
       "thickness_change                        0.443169      0.997976   \n",
       "Thalamus_change_pred                    0.012854      0.280367   \n",
       "Caudate_change_pred                     0.632498      0.561301   \n",
       "Putamen_change_pred                     0.209674      0.257905   \n",
       "Pallidum_change_pred                    0.546732      0.825296   \n",
       "Hippocampus_change_pred                 0.426830      0.222348   \n",
       "Amygdala_change_pred                    0.574215      0.200023   \n",
       "Accumbens-area_change_pred              0.809184      0.520146   \n",
       "\n",
       "                            PD-non-MCI_vs_HC  \n",
       "thickness_change                    0.503756  \n",
       "Thalamus_change_pred                0.088426  \n",
       "Caudate_change_pred                 0.952774  \n",
       "Putamen_change_pred                 0.015019  \n",
       "Pallidum_change_pred                0.132805  \n",
       "Hippocampus_change_pred             0.742446  \n",
       "Amygdala_change_pred                0.504155  \n",
       "Accumbens-area_change_pred          0.576393  "
      ]
     },
     "execution_count": 66,
     "metadata": {},
     "output_type": "execute_result"
    }
   ],
   "source": [
    "original_pvalues"
   ]
  },
  {
   "cell_type": "code",
   "execution_count": 67,
   "metadata": {},
   "outputs": [
    {
     "data": {
      "text/plain": [
       "<generator object Console.render at 0x7f0acb4ad0e0>"
      ]
     },
     "execution_count": 67,
     "metadata": {},
     "output_type": "execute_result"
    }
   ],
   "source": [
    "console.render(table)"
   ]
  }
 ],
 "metadata": {
  "kernelspec": {
   "display_name": "py11",
   "language": "python",
   "name": "python3"
  },
  "language_info": {
   "codemirror_mode": {
    "name": "ipython",
    "version": 3
   },
   "file_extension": ".py",
   "mimetype": "text/x-python",
   "name": "python",
   "nbconvert_exporter": "python",
   "pygments_lexer": "ipython3",
   "version": "3.10.12"
  },
  "orig_nbformat": 4
 },
 "nbformat": 4,
 "nbformat_minor": 2
}
