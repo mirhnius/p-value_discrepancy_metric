{
 "cells": [
  {
   "cell_type": "code",
   "execution_count": 13,
   "metadata": {},
   "outputs": [],
   "source": [
    "import numpy as np\n",
    "import pandas as pd\n",
    "from scipy import stats\n",
    "from pathlib import Path\n",
    "from pvalue_metric import metric\n",
    "from itertools import product"
   ]
  },
  {
   "cell_type": "code",
   "execution_count": 3,
   "metadata": {},
   "outputs": [],
   "source": [
    "def simulation(test_func, generator1, generator2, n_bootstrap, n_permutation, func1_args={}, func2_args={}, **kwargs):\n",
    "    \n",
    "    g1_samples = generator1(**func1_args)\n",
    "    g2_samples = generator2(**func2_args)\n",
    "    _, p = test_func(g1_samples, g2_samples, **kwargs)\n",
    "    p_metric = metric.pvalue_test([g1_samples, g2_samples],test_func, n_bootstrap, n_permutation, **kwargs)[0][0]\n",
    "\n",
    "    return {'pvalue': p, 'p_metric': p_metric}"
   ]
  },
  {
   "cell_type": "code",
   "execution_count": 24,
   "metadata": {},
   "outputs": [],
   "source": [
    "size = [15, 50, 100, 500]\n",
    "n_bootstrap = [ 500]\n",
    "n_permutation = [ 500]\n",
    "locations = [0, 0.5, 1, 2]\n",
    "\n",
    "combins = list(product(locations, size, n_bootstrap, n_permutation))"
   ]
  },
  {
   "cell_type": "code",
   "execution_count": 22,
   "metadata": {},
   "outputs": [
    {
     "data": {
      "text/plain": [
       "16"
      ]
     },
     "execution_count": 22,
     "metadata": {},
     "output_type": "execute_result"
    }
   ],
   "source": [
    "len(combins)"
   ]
  },
  {
   "cell_type": "code",
   "execution_count": 27,
   "metadata": {},
   "outputs": [
    {
     "name": "stdout",
     "output_type": "stream",
     "text": [
      "location: 0, size: 15, n_bootstrap: 500, n_permutation: 500\n",
      "{'pvalue': 0.8923511977193499, 'p_metric': 0.87}\n",
      "location: 0, size: 50, n_bootstrap: 500, n_permutation: 500\n",
      "{'pvalue': 0.4027927698469358, 'p_metric': 0.366}\n",
      "location: 0, size: 100, n_bootstrap: 500, n_permutation: 500\n",
      "{'pvalue': 0.3481714564070745, 'p_metric': 0.29600000000000004}\n",
      "location: 0, size: 500, n_bootstrap: 500, n_permutation: 500\n",
      "{'pvalue': 0.07345448243176675, 'p_metric': 0.04400000000000004}\n",
      "location: 0.5, size: 15, n_bootstrap: 500, n_permutation: 500\n",
      "{'pvalue': 0.09954077017556355, 'p_metric': 0.11199999999999999}\n",
      "location: 0.5, size: 50, n_bootstrap: 500, n_permutation: 500\n",
      "{'pvalue': 0.009876228720148138, 'p_metric': 0.010000000000000009}\n",
      "location: 0.5, size: 100, n_bootstrap: 500, n_permutation: 500\n",
      "{'pvalue': 0.0010935734145449388, 'p_metric': 0.0}\n",
      "location: 0.5, size: 500, n_bootstrap: 500, n_permutation: 500\n",
      "{'pvalue': 2.2149497369586324e-21, 'p_metric': 0.0}\n",
      "location: 1, size: 15, n_bootstrap: 500, n_permutation: 500\n",
      "{'pvalue': 0.008536066622327296, 'p_metric': 0.0040000000000000036}\n",
      "location: 1, size: 50, n_bootstrap: 500, n_permutation: 500\n",
      "{'pvalue': 4.898384648727284e-07, 'p_metric': 0.0}\n",
      "location: 1, size: 100, n_bootstrap: 500, n_permutation: 500\n",
      "{'pvalue': 2.9844419408265453e-05, 'p_metric': 0.0}\n",
      "location: 1, size: 500, n_bootstrap: 500, n_permutation: 500\n",
      "{'pvalue': 6.599434295070181e-52, 'p_metric': 0.0}\n",
      "location: 2, size: 15, n_bootstrap: 500, n_permutation: 500\n",
      "{'pvalue': 3.096183507286065e-06, 'p_metric': 0.0}\n",
      "location: 2, size: 50, n_bootstrap: 500, n_permutation: 500\n",
      "{'pvalue': 2.1670041883392908e-15, 'p_metric': 0.0}\n",
      "location: 2, size: 100, n_bootstrap: 500, n_permutation: 500\n",
      "{'pvalue': 2.0842369524645818e-32, 'p_metric': 0.0}\n",
      "location: 2, size: 500, n_bootstrap: 500, n_permutation: 500\n",
      "{'pvalue': 8.05845401716524e-147, 'p_metric': 0.0}\n"
     ]
    }
   ],
   "source": [
    "for combo in combins:\n",
    "    loc, s, bs, pe = combo\n",
    "    print(f\"location: {loc}, size: {s}, n_bootstrap: {bs}, n_permutation: {pe}\")\n",
    "    print(simulation(stats.ttest_ind,np.random.normal, \n",
    "        np.random.normal, bs, pe,\n",
    "        func1_args={'loc':0, 'scale':1, 'size': s}, \n",
    "        func2_args={'loc':loc, 'scale':1, 'size': s}))"
   ]
  },
  {
   "cell_type": "code",
   "execution_count": 11,
   "metadata": {},
   "outputs": [
    {
     "data": {
      "text/plain": [
       "[(0, 50, 100, 100), (0.5, 100, 500, 500)]"
      ]
     },
     "execution_count": 11,
     "metadata": {},
     "output_type": "execute_result"
    }
   ],
   "source": [
    "list(zip(locations, size, n_bootstrap, n_permutation))"
   ]
  },
  {
   "cell_type": "code",
   "execution_count": 11,
   "metadata": {},
   "outputs": [
    {
     "data": {
      "text/plain": [
       "0.946"
      ]
     },
     "execution_count": 11,
     "metadata": {},
     "output_type": "execute_result"
    }
   ],
   "source": [
    "simulation(stats.ttest_ind,np.random.normal, \n",
    "        np.random.normal, 500, 500,\n",
    "        func1_args={'loc':0, 'scale':1, 'size': 50}, \n",
    "        func2_args={'loc':0, 'scale':1, 'size': 50})"
   ]
  },
  {
   "cell_type": "code",
   "execution_count": 1,
   "metadata": {},
   "outputs": [],
   "source": [
    "# def test(func1, n1, func1_args={}):\n",
    "#     print(**func1_args)\n"
   ]
  },
  {
   "cell_type": "code",
   "execution_count": 33,
   "metadata": {},
   "outputs": [
    {
     "data": {
      "text/plain": [
       "0.010000000000000009"
      ]
     },
     "execution_count": 33,
     "metadata": {},
     "output_type": "execute_result"
    }
   ],
   "source": [
    "a = np.random.normal(loc=0.0, scale=1.0, size=30)\n",
    "b = np.random.normal(loc=0.50, scale=1.0, size=45)\n",
    "t, p = stats.ttest_ind(a,b)\n",
    "metric.pvalue_test([a,b], stats.ttest_ind, 500, 500)[0][0]"
   ]
  }
 ],
 "metadata": {
  "kernelspec": {
   "display_name": "py11",
   "language": "python",
   "name": "python3"
  },
  "language_info": {
   "codemirror_mode": {
    "name": "ipython",
    "version": 3
   },
   "file_extension": ".py",
   "mimetype": "text/x-python",
   "name": "python",
   "nbconvert_exporter": "python",
   "pygments_lexer": "ipython3",
   "version": "3.11.4"
  },
  "orig_nbformat": 4
 },
 "nbformat": 4,
 "nbformat_minor": 2
}
